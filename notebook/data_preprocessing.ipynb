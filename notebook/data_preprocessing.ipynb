{
 "cells": [
  {
   "cell_type": "markdown",
   "id": "0b3eb4d7",
   "metadata": {},
   "source": [
    "# **Tiền xử lý dữ liệu**"
   ]
  },
  {
   "cell_type": "markdown",
   "id": "9b498c62",
   "metadata": {},
   "source": [
    "## **Import các thư viện cần thiết**"
   ]
  },
  {
   "cell_type": "code",
   "execution_count": 3,
   "id": "6dc29368",
   "metadata": {},
   "outputs": [],
   "source": [
    "import pandas as pd "
   ]
  },
  {
   "cell_type": "markdown",
   "id": "580830a2",
   "metadata": {},
   "source": [
    "## **Đọc dữ liệu**"
   ]
  },
  {
   "cell_type": "code",
   "execution_count": 5,
   "id": "d97cbb72",
   "metadata": {},
   "outputs": [
    {
     "name": "stdout",
     "output_type": "stream",
     "text": [
      "         Date  Buy_cash  Buy_transfer      Sell\n",
      "0  2020-04-01  25297.47      25553.00  26506.55\n",
      "1  2020-04-02  25297.47      25553.00  26506.55\n",
      "2  2020-04-03  24742.47      24992.39  25936.23\n",
      "3  2020-04-04  24742.47      24992.39  25936.23\n",
      "4  2020-04-05  24742.47      24992.39  25936.23\n"
     ]
    }
   ],
   "source": [
    "file_path = \"..//data//raw//EUR_VND_Exchange_Rate_2020_2025_raw.csv\"\n",
    "df = pd.read_csv(file_path)\n",
    "\n",
    "# Hiển thị 5 dòng đầu\n",
    "print(df.head())"
   ]
  },
  {
   "cell_type": "markdown",
   "id": "d930dbfa",
   "metadata": {},
   "source": [
    "## **Mô tả cấu trúc dữ liệu**"
   ]
  },
  {
   "cell_type": "code",
   "execution_count": 6,
   "id": "aef89540",
   "metadata": {},
   "outputs": [
    {
     "name": "stdout",
     "output_type": "stream",
     "text": [
      "\n",
      "Thông tin kiểu dữ liệu:\n",
      "<class 'pandas.core.frame.DataFrame'>\n",
      "RangeIndex: 1837 entries, 0 to 1836\n",
      "Data columns (total 4 columns):\n",
      " #   Column        Non-Null Count  Dtype  \n",
      "---  ------        --------------  -----  \n",
      " 0   Date          1837 non-null   object \n",
      " 1   Buy_cash      1837 non-null   float64\n",
      " 2   Buy_transfer  1837 non-null   float64\n",
      " 3   Sell          1837 non-null   float64\n",
      "dtypes: float64(3), object(1)\n",
      "memory usage: 57.5+ KB\n",
      "None\n"
     ]
    }
   ],
   "source": [
    "# Kiểm tra thông tin tổng quát\n",
    "print(\"\\nThông tin kiểu dữ liệu:\")\n",
    "print(df.info())"
   ]
  },
  {
   "cell_type": "markdown",
   "id": "411bc49e",
   "metadata": {},
   "source": [
    "## **Xử lý các giá trị thiếu**"
   ]
  },
  {
   "cell_type": "code",
   "execution_count": 8,
   "id": "7d6175c3",
   "metadata": {},
   "outputs": [
    {
     "name": "stdout",
     "output_type": "stream",
     "text": [
      "\n",
      "Số lượng giá trị thiếu:\n",
      "Date            0\n",
      "Buy_cash        0\n",
      "Buy_transfer    0\n",
      "Sell            0\n",
      "dtype: int64\n"
     ]
    }
   ],
   "source": [
    "# Kiểm tra giá trị thiếu\n",
    "print(\"\\nSố lượng giá trị thiếu:\")\n",
    "print(df.isnull().sum())\n",
    "\n",
    "# Chuyển đổi cột Date sang kiểu datetime\n",
    "df['Date'] = pd.to_datetime(df['Date'])\n",
    "\n",
    "# Thiết lập cột Date làm index\n",
    "df.set_index('Date', inplace=True)"
   ]
  },
  {
   "cell_type": "markdown",
   "id": "28e7b8b5",
   "metadata": {},
   "source": [
    "## **Thống kê sơ bộ về dữ liệu**"
   ]
  },
  {
   "cell_type": "code",
   "execution_count": 7,
   "id": "bc7d1180",
   "metadata": {},
   "outputs": [
    {
     "name": "stdout",
     "output_type": "stream",
     "text": [
      "\n",
      "Thống kê mô tả dữ liệu số:\n",
      "           Buy_cash  Buy_transfer          Sell\n",
      "count   1837.000000   1837.000000   1837.000000\n",
      "mean   25607.223125  25865.882101  26998.724573\n",
      "std     1151.390814   1163.021009   1187.634585\n",
      "min    22159.160000  22382.990000  23399.490000\n",
      "25%    24845.850000  25096.820000  26204.510000\n",
      "50%    25696.490000  25956.060000  27086.350000\n",
      "75%    26602.260000  26870.970000  28017.460000\n",
      "max    28228.510000  28513.640000  29775.690000\n"
     ]
    }
   ],
   "source": [
    "print(\"\\nThống kê mô tả dữ liệu số:\")\n",
    "print(df.describe())"
   ]
  },
  {
   "cell_type": "code",
   "execution_count": 10,
   "id": "b406bf05",
   "metadata": {},
   "outputs": [
    {
     "name": "stdout",
     "output_type": "stream",
     "text": [
      "Dữ liệu đã được xử lý và lưu vào 'data/processed/EUR_VND_Exchange_Rate_2020_2025_clean.csv'\n"
     ]
    }
   ],
   "source": [
    "df.to_csv(\"../data/processed/EUR_VND_Exchange_Rate_2020_2025_clean.csv\")\n",
    "print(\"Dữ liệu đã được xử lý và lưu vào 'data/processed/EUR_VND_Exchange_Rate_2020_2025_clean.csv'\")\n"
   ]
  }
 ],
 "metadata": {
  "kernelspec": {
   "display_name": "myenv",
   "language": "python",
   "name": "python3"
  },
  "language_info": {
   "codemirror_mode": {
    "name": "ipython",
    "version": 3
   },
   "file_extension": ".py",
   "mimetype": "text/x-python",
   "name": "python",
   "nbconvert_exporter": "python",
   "pygments_lexer": "ipython3",
   "version": "3.12.7"
  }
 },
 "nbformat": 4,
 "nbformat_minor": 5
}
