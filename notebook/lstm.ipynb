{
 "cells": [
  {
   "cell_type": "markdown",
   "id": "4c18e3f0",
   "metadata": {},
   "source": [
    "# **Mô hình LSTM**"
   ]
  },
  {
   "cell_type": "markdown",
   "id": "6941b8ce",
   "metadata": {},
   "source": [
    "## **Thư viện**"
   ]
  },
  {
   "cell_type": "code",
   "execution_count": 16,
   "id": "7eb7d993",
   "metadata": {},
   "outputs": [],
   "source": [
    "import numpy as np\n",
    "import pandas as pd\n",
    "import matplotlib.pyplot as plt\n",
    "import tensorflow as tf\n",
    "from tensorflow import keras\n",
    "from keras.models import Sequential\n",
    "from keras.layers import LSTM, Dense, Dropout, BatchNormalization, Input\n",
    "from keras.regularizers import l2\n",
    "from keras.losses import MeanSquaredError\n",
    "from keras.optimizers import Adam\n",
    "from sklearn.preprocessing import MinMaxScaler\n",
    "from keras.callbacks import EarlyStopping\n",
    "import keras_tuner as kt\n",
    "from sklearn.metrics import mean_absolute_error, mean_squared_error\n",
    "import json\n",
    "import os"
   ]
  },
  {
   "cell_type": "markdown",
   "id": "8d12f020",
   "metadata": {},
   "source": [
    "## **Dữ liệu**"
   ]
  },
  {
   "cell_type": "code",
   "execution_count": 17,
   "id": "e4ad5813",
   "metadata": {},
   "outputs": [
    {
     "data": {
      "text/html": [
       "<div>\n",
       "<style scoped>\n",
       "    .dataframe tbody tr th:only-of-type {\n",
       "        vertical-align: middle;\n",
       "    }\n",
       "\n",
       "    .dataframe tbody tr th {\n",
       "        vertical-align: top;\n",
       "    }\n",
       "\n",
       "    .dataframe thead th {\n",
       "        text-align: right;\n",
       "    }\n",
       "</style>\n",
       "<table border=\"1\" class=\"dataframe\">\n",
       "  <thead>\n",
       "    <tr style=\"text-align: right;\">\n",
       "      <th></th>\n",
       "      <th>Sell</th>\n",
       "    </tr>\n",
       "    <tr>\n",
       "      <th>Date</th>\n",
       "      <th></th>\n",
       "    </tr>\n",
       "  </thead>\n",
       "  <tbody>\n",
       "    <tr>\n",
       "      <th>2020-04-01</th>\n",
       "      <td>26506.55</td>\n",
       "    </tr>\n",
       "    <tr>\n",
       "      <th>2020-04-02</th>\n",
       "      <td>26506.55</td>\n",
       "    </tr>\n",
       "    <tr>\n",
       "      <th>2020-04-03</th>\n",
       "      <td>25936.23</td>\n",
       "    </tr>\n",
       "    <tr>\n",
       "      <th>2020-04-04</th>\n",
       "      <td>25936.23</td>\n",
       "    </tr>\n",
       "    <tr>\n",
       "      <th>2020-04-05</th>\n",
       "      <td>25936.23</td>\n",
       "    </tr>\n",
       "  </tbody>\n",
       "</table>\n",
       "</div>"
      ],
      "text/plain": [
       "                Sell\n",
       "Date                \n",
       "2020-04-01  26506.55\n",
       "2020-04-02  26506.55\n",
       "2020-04-03  25936.23\n",
       "2020-04-04  25936.23\n",
       "2020-04-05  25936.23"
      ]
     },
     "execution_count": 17,
     "metadata": {},
     "output_type": "execute_result"
    }
   ],
   "source": [
    "file_path = \"..//data//processed//EUR_VND_Exchange_Rate_2020_2025_clean.csv\"\n",
    "df = pd.read_csv(file_path)\n",
    "df['Date'] = pd.to_datetime(df['Date'])\n",
    "df.set_index('Date', inplace=True)\n",
    "data = df[['Sell']]\n",
    "data.head()\n",
    "\n"
   ]
  },
  {
   "cell_type": "markdown",
   "id": "e64c1092",
   "metadata": {},
   "source": [
    "## **Chuẩn hóa dữ liệu**"
   ]
  },
  {
   "cell_type": "code",
   "execution_count": 18,
   "id": "0125f542",
   "metadata": {},
   "outputs": [],
   "source": [
    "scaler = MinMaxScaler()\n",
    "scaled_data = scaler.fit_transform(data)"
   ]
  },
  {
   "cell_type": "markdown",
   "id": "491580cf",
   "metadata": {},
   "source": [
    "## **Tạo dữ liệu chuỗi cho LSTM**"
   ]
  },
  {
   "cell_type": "code",
   "execution_count": 19,
   "id": "5ec59884",
   "metadata": {},
   "outputs": [],
   "source": [
    "def create_sequences(data, seq_length):\n",
    "    X, y = [], []\n",
    "    for i in range(len(data) - seq_length):\n",
    "        X.append(data[i:i + seq_length])\n",
    "        y.append(data[i + seq_length])\n",
    "    return np.array(X), np.array(y)\n",
    "\n",
    "seq_length = 30\n",
    "X, y = create_sequences(scaled_data, seq_length)"
   ]
  },
  {
   "cell_type": "markdown",
   "id": "c79614e0",
   "metadata": {},
   "source": [
    "## **Chia train/test**"
   ]
  },
  {
   "cell_type": "code",
   "execution_count": 20,
   "id": "688a501d",
   "metadata": {},
   "outputs": [],
   "source": [
    "split = int(0.8 * len(X))\n",
    "X_train, y_train = X[:split], y[:split]\n",
    "X_val, y_val = X[split:], y[split:]"
   ]
  },
  {
   "cell_type": "markdown",
   "id": "21e4da68",
   "metadata": {},
   "source": [
    "## **Tìm kiếm tham số tốt nhất**"
   ]
  },
  {
   "cell_type": "code",
   "execution_count": 21,
   "id": "b7a4ecac",
   "metadata": {},
   "outputs": [],
   "source": [
    "import os\n",
    "\n",
    "base_dir = r\"..\\model\"\n",
    "if not os.path.exists(base_dir):\n",
    "    os.makedirs(base_dir)\n",
    "base_dir = os.path.normpath(os.path.join(\"..\", \"model\"))\n",
    "directory = os.path.join(base_dir, \"LSTM\")\n",
    "if not os.path.exists(directory):\n",
    "    os.makedirs(directory)\n"
   ]
  },
  {
   "cell_type": "code",
   "execution_count": 22,
   "id": "0db60953",
   "metadata": {},
   "outputs": [],
   "source": [
    "def build_lstm_model(hp, seq_length=30):\n",
    "    model = Sequential()\n",
    "    model.add(Input(shape=(seq_length, 1)))\n",
    "    model.add(LSTM(\n",
    "        units=hp.Choice(\"lstm_units\", [32, 64, 96]),\n",
    "        activation=hp.Choice(\"activation\", ['relu', 'tanh']),\n",
    "        return_sequences=False,\n",
    "        kernel_regularizer=l2(hp.Choice(\"l2_reg\", [0.001, 0.01]))\n",
    "    ))\n",
    "    model.add(BatchNormalization())\n",
    "    model.add(Dropout(hp.Choice(\"dropout\", [0.2, 0.3, 0.4])))\n",
    "    model.add(Dense(hp.Choice(\"dense_units\", [16, 32, 64]), activation=\"relu\"))\n",
    "    model.add(Dense(1))\n",
    "\n",
    "    model.compile(\n",
    "        optimizer=Adam(learning_rate=hp.Choice(\"learning_rate\", [0.001, 0.0005])),\n",
    "        loss=\"mse\",\n",
    "        metrics=[\"mae\"]\n",
    "    )\n",
    "    return model\n"
   ]
  },
  {
   "cell_type": "code",
   "execution_count": 23,
   "id": "356eb923",
   "metadata": {},
   "outputs": [
    {
     "name": "stdout",
     "output_type": "stream",
     "text": [
      "Trial 10 Complete [00h 00m 41s]\n",
      "val_loss: 0.0013081793440505862\n",
      "\n",
      "Best val_loss So Far: 0.0006286297575570643\n",
      "Total elapsed time: 00h 06m 52s\n",
      "Epoch 1/30\n",
      "46/46 - 6s - 124ms/step - loss: 0.0976 - mae: 0.2445 - val_loss: 0.1572 - val_mae: 0.3851\n",
      "Epoch 2/30\n",
      "46/46 - 1s - 31ms/step - loss: 0.0199 - mae: 0.0969 - val_loss: 0.0600 - val_mae: 0.2252\n",
      "Epoch 3/30\n",
      "46/46 - 1s - 28ms/step - loss: 0.0129 - mae: 0.0813 - val_loss: 0.0456 - val_mae: 0.1917\n",
      "Epoch 4/30\n",
      "46/46 - 1s - 30ms/step - loss: 0.0087 - mae: 0.0679 - val_loss: 0.0474 - val_mae: 0.1969\n",
      "Epoch 5/30\n",
      "46/46 - 1s - 26ms/step - loss: 0.0072 - mae: 0.0621 - val_loss: 0.0377 - val_mae: 0.1731\n",
      "Epoch 6/30\n",
      "46/46 - 1s - 28ms/step - loss: 0.0057 - mae: 0.0553 - val_loss: 0.0389 - val_mae: 0.1778\n",
      "Epoch 7/30\n",
      "46/46 - 1s - 30ms/step - loss: 0.0053 - mae: 0.0528 - val_loss: 0.0455 - val_mae: 0.1971\n",
      "Epoch 8/30\n",
      "46/46 - 1s - 28ms/step - loss: 0.0061 - mae: 0.0583 - val_loss: 0.0242 - val_mae: 0.1372\n",
      "Epoch 9/30\n",
      "46/46 - 1s - 26ms/step - loss: 0.0052 - mae: 0.0531 - val_loss: 0.0309 - val_mae: 0.1602\n",
      "Epoch 10/30\n",
      "46/46 - 1s - 28ms/step - loss: 0.0040 - mae: 0.0462 - val_loss: 0.0231 - val_mae: 0.1362\n",
      "Epoch 11/30\n",
      "46/46 - 1s - 31ms/step - loss: 0.0043 - mae: 0.0483 - val_loss: 0.0142 - val_mae: 0.1037\n",
      "Epoch 12/30\n",
      "46/46 - 1s - 28ms/step - loss: 0.0041 - mae: 0.0470 - val_loss: 0.0222 - val_mae: 0.1370\n",
      "Epoch 13/30\n",
      "46/46 - 1s - 27ms/step - loss: 0.0040 - mae: 0.0471 - val_loss: 0.0189 - val_mae: 0.1271\n",
      "Epoch 14/30\n",
      "46/46 - 1s - 26ms/step - loss: 0.0039 - mae: 0.0476 - val_loss: 0.0167 - val_mae: 0.1213\n",
      "Epoch 15/30\n",
      "46/46 - 1s - 31ms/step - loss: 0.0037 - mae: 0.0449 - val_loss: 0.0101 - val_mae: 0.0929\n",
      "Epoch 16/30\n",
      "46/46 - 2s - 53ms/step - loss: 0.0035 - mae: 0.0438 - val_loss: 0.0032 - val_mae: 0.0481\n",
      "Epoch 17/30\n",
      "46/46 - 1s - 27ms/step - loss: 0.0035 - mae: 0.0442 - val_loss: 0.0038 - val_mae: 0.0540\n",
      "Epoch 18/30\n",
      "46/46 - 1s - 27ms/step - loss: 0.0033 - mae: 0.0429 - val_loss: 0.0022 - val_mae: 0.0386\n",
      "Epoch 19/30\n",
      "46/46 - 1s - 26ms/step - loss: 0.0030 - mae: 0.0409 - val_loss: 0.0044 - val_mae: 0.0607\n",
      "Epoch 20/30\n",
      "46/46 - 1s - 29ms/step - loss: 0.0035 - mae: 0.0441 - val_loss: 0.0054 - val_mae: 0.0678\n",
      "Epoch 21/30\n",
      "46/46 - 2s - 33ms/step - loss: 0.0029 - mae: 0.0402 - val_loss: 0.0014 - val_mae: 0.0296\n",
      "Epoch 22/30\n",
      "46/46 - 1s - 29ms/step - loss: 0.0036 - mae: 0.0457 - val_loss: 0.0015 - val_mae: 0.0317\n",
      "Epoch 23/30\n",
      "46/46 - 1s - 31ms/step - loss: 0.0031 - mae: 0.0424 - val_loss: 0.0040 - val_mae: 0.0582\n",
      "Epoch 24/30\n",
      "46/46 - 1s - 29ms/step - loss: 0.0026 - mae: 0.0381 - val_loss: 0.0011 - val_mae: 0.0247\n",
      "Epoch 25/30\n",
      "46/46 - 1s - 28ms/step - loss: 0.0027 - mae: 0.0389 - val_loss: 0.0024 - val_mae: 0.0435\n",
      "Epoch 26/30\n",
      "46/46 - 1s - 28ms/step - loss: 0.0034 - mae: 0.0450 - val_loss: 0.0013 - val_mae: 0.0276\n",
      "Epoch 27/30\n",
      "46/46 - 1s - 27ms/step - loss: 0.0024 - mae: 0.0370 - val_loss: 0.0023 - val_mae: 0.0421\n",
      "Epoch 28/30\n",
      "46/46 - 1s - 27ms/step - loss: 0.0029 - mae: 0.0409 - val_loss: 6.8547e-04 - val_mae: 0.0171\n",
      "Epoch 29/30\n",
      "46/46 - 1s - 25ms/step - loss: 0.0024 - mae: 0.0371 - val_loss: 6.7394e-04 - val_mae: 0.0158\n",
      "Epoch 30/30\n",
      "46/46 - 1s - 30ms/step - loss: 0.0027 - mae: 0.0388 - val_loss: 0.0047 - val_mae: 0.0643\n"
     ]
    },
    {
     "name": "stderr",
     "output_type": "stream",
     "text": [
      "WARNING:absl:You are saving your model as an HDF5 file via `model.save()` or `keras.saving.save_model(model)`. This file format is considered legacy. We recommend using instead the native Keras format, e.g. `model.save('my_model.keras')` or `keras.saving.save_model(model, 'my_model.keras')`. \n"
     ]
    },
    {
     "name": "stdout",
     "output_type": "stream",
     "text": [
      "Model tốt nhất đã lưu tại: ..\\model\\LSTM\\best_lstm.h5\n"
     ]
    }
   ],
   "source": [
    "directory = \"my_tuner\"  \n",
    "tuner = kt.RandomSearch(\n",
    "    build_lstm_model,\n",
    "    objective=\"val_loss\",\n",
    "    max_trials=10,\n",
    "    executions_per_trial=1,\n",
    "    directory=directory,\n",
    "    project_name=\"lstm_best\",\n",
    "    overwrite=True\n",
    ")\n",
    "\n",
    "tuner.search(\n",
    "    X_train, y_train,\n",
    "    validation_data=(X_val, y_val),\n",
    "    epochs=100,\n",
    "    batch_size=32,\n",
    "    callbacks=[EarlyStopping(patience=5, restore_best_weights=True)],\n",
    "    verbose=2\n",
    ")\n",
    "\n",
    "best_hp = tuner.get_best_hyperparameters(num_trials=1)[0]\n",
    "best_model = build_lstm_model(best_hp, seq_length)\n",
    "best_model.fit(\n",
    "    X_train, y_train,\n",
    "    epochs=30,\n",
    "    batch_size=32,\n",
    "    validation_data=(X_val, y_val),\n",
    "    callbacks=[EarlyStopping(patience=5, restore_best_weights=True)],\n",
    "    verbose=2\n",
    ")\n",
    "\n",
    "save_dir = os.path.join(\"..\", \"model\", \"LSTM\")\n",
    "os.makedirs(save_dir, exist_ok=True)\n",
    "model_path = os.path.join(save_dir, \"best_lstm.h5\")\n",
    "best_model.save(model_path)\n",
    "print(f\"Model tốt nhất đã lưu tại: {model_path}\")\n"
   ]
  },
  {
   "cell_type": "code",
   "execution_count": 24,
   "id": "9ab3954d",
   "metadata": {},
   "outputs": [
    {
     "name": "stdout",
     "output_type": "stream",
     "text": [
      "LSTM units: 64\n",
      "L2 reg: 0.001\n",
      "Dropout: 0.2\n",
      "Dense units: 16\n",
      "Learning rate: 0.001\n"
     ]
    }
   ],
   "source": [
    "best_hp = tuner.get_best_hyperparameters(num_trials=1)[0]\n",
    "\n",
    "print(\"LSTM units:\", best_hp.get(\"lstm_units\"))\n",
    "print(\"L2 reg:\", best_hp.get(\"l2_reg\"))\n",
    "print(\"Dropout:\", best_hp.get(\"dropout\"))\n",
    "print(\"Dense units:\", best_hp.get(\"dense_units\"))\n",
    "print(\"Learning rate:\", best_hp.get(\"learning_rate\"))\n",
    "\n"
   ]
  },
  {
   "cell_type": "markdown",
   "id": "3d07f137",
   "metadata": {},
   "source": [
    "## **Huấn luyện**"
   ]
  },
  {
   "cell_type": "code",
   "execution_count": 26,
   "id": "ba630048",
   "metadata": {},
   "outputs": [],
   "source": [
    "from tensorflow.keras.models import load_model\n",
    "best_model = load_model(r\"..\\model\\LSTM\\best_lstm.h5\", compile=False)"
   ]
  },
  {
   "cell_type": "markdown",
   "id": "8561f0e3",
   "metadata": {},
   "source": [
    "## **Dự đoán trên tập val**"
   ]
  },
  {
   "cell_type": "code",
   "execution_count": 27,
   "id": "0faa8c4c",
   "metadata": {},
   "outputs": [
    {
     "name": "stdout",
     "output_type": "stream",
     "text": [
      "\u001b[1m12/12\u001b[0m \u001b[32m━━━━━━━━━━━━━━━━━━━━\u001b[0m\u001b[37m\u001b[0m \u001b[1m0s\u001b[0m 25ms/step\n"
     ]
    }
   ],
   "source": [
    "y_pred = best_model.predict(X_val)\n"
   ]
  },
  {
   "cell_type": "markdown",
   "id": "7e612551",
   "metadata": {},
   "source": [
    "## **Đánh giá mô hình**"
   ]
  },
  {
   "cell_type": "code",
   "execution_count": 28,
   "id": "f2979215",
   "metadata": {},
   "outputs": [
    {
     "name": "stdout",
     "output_type": "stream",
     "text": [
      "MAE: 0.015827806785146625\n",
      "MSE: 0.0004811611714523203\n",
      "RMSE: 0.02193538628454763\n",
      "MAPE: 2.247931821618482 %\n"
     ]
    }
   ],
   "source": [
    "mae = mean_absolute_error(y_val, y_pred)\n",
    "mse = mean_squared_error(y_val, y_pred)\n",
    "rmse = mse ** 0.5\n",
    "mape = (abs((y_val - y_pred) / y_val)).mean() * 100\n",
    "\n",
    "print(f\"MAE: {mae}\")\n",
    "print(f\"MSE: {mse}\")\n",
    "print(f\"RMSE: {rmse}\")\n",
    "print(f\"MAPE: {mape} %\")\n"
   ]
  },
  {
   "cell_type": "code",
   "execution_count": 29,
   "id": "2c0b9c88",
   "metadata": {},
   "outputs": [
    {
     "data": {
      "image/png": "[encoded data removed]",
      "text/plain": [
       "<Figure size 1200x600 with 1 Axes>"
      ]
     },
     "metadata": {},
     "output_type": "display_data"
    }
   ],
   "source": [
    "import matplotlib.pyplot as plt\n",
    "\n",
    "plt.figure(figsize=(12,6))\n",
    "plt.plot(y_val, label=\"Thực tế\")\n",
    "plt.plot(y_pred, label=\"Dự đoán\")\n",
    "plt.title(\"So sánh Giá trị Thực tế và Dự đoán\")\n",
    "plt.xlabel(\"Thời gian\")\n",
    "plt.ylabel(\"Giá trị Sell\")\n",
    "plt.legend()\n",
    "plt.show()\n"
   ]
  },
  {
   "cell_type": "code",
   "execution_count": 30,
   "id": "b1d0aec3",
   "metadata": {},
   "outputs": [
    {
     "name": "stdout",
     "output_type": "stream",
     "text": [
      "\u001b[1m1/1\u001b[0m \u001b[32m━━━━━━━━━━━━━━━━━━━━\u001b[0m\u001b[37m\u001b[0m \u001b[1m0s\u001b[0m 40ms/step\n",
      "\u001b[1m1/1\u001b[0m \u001b[32m━━━━━━━━━━━━━━━━━━━━\u001b[0m\u001b[37m\u001b[0m \u001b[1m0s\u001b[0m 41ms/step\n",
      "\u001b[1m1/1\u001b[0m \u001b[32m━━━━━━━━━━━━━━━━━━━━\u001b[0m\u001b[37m\u001b[0m \u001b[1m0s\u001b[0m 44ms/step\n"
     ]
    },
    {
     "name": "stderr",
     "output_type": "stream",
     "text": [
      "C:\\Users\\nguyetnt\\AppData\\Local\\Temp\\ipykernel_3676\\3109299002.py:16: DeprecationWarning: Conversion of an array with ndim > 0 to a scalar is deprecated, and will error in future. Ensure you extract a single element from your array before performing this operation. (Deprecated NumPy 1.25.)\n",
      "  current_sequence[-1, 0] = current_pred\n"
     ]
    },
    {
     "name": "stdout",
     "output_type": "stream",
     "text": [
      "\u001b[1m1/1\u001b[0m \u001b[32m━━━━━━━━━━━━━━━━━━━━\u001b[0m\u001b[37m\u001b[0m \u001b[1m0s\u001b[0m 42ms/step\n",
      "\u001b[1m1/1\u001b[0m \u001b[32m━━━━━━━━━━━━━━━━━━━━\u001b[0m\u001b[37m\u001b[0m \u001b[1m0s\u001b[0m 41ms/step\n",
      "\u001b[1m1/1\u001b[0m \u001b[32m━━━━━━━━━━━━━━━━━━━━\u001b[0m\u001b[37m\u001b[0m \u001b[1m0s\u001b[0m 43ms/step\n",
      "\u001b[1m1/1\u001b[0m \u001b[32m━━━━━━━━━━━━━━━━━━━━\u001b[0m\u001b[37m\u001b[0m \u001b[1m0s\u001b[0m 43ms/step\n",
      "Dự đoán 7 ngày tiếp theo:\n",
      "      Ngày  Giá trị Sell dự đoán\n",
      "2025-04-12          29197.207031\n",
      "2025-04-13          29166.705078\n",
      "2025-04-14          29130.466797\n",
      "2025-04-15          29089.949219\n",
      "2025-04-16          29046.041016\n",
      "2025-04-17          28998.521484\n",
      "2025-04-18          28947.439453\n"
     ]
    }
   ],
   "source": [
    "from datetime import timedelta\n",
    "\n",
    "def predict_future_with_dates(model, last_sequence, last_date, n_steps):\n",
    "    future_predictions = []\n",
    "    future_dates = []\n",
    "    current_sequence = last_sequence.copy()\n",
    "    \n",
    "    for i in range(n_steps):\n",
    "        current_pred = model.predict(current_sequence[np.newaxis, :, :])\n",
    "        future_predictions.append(current_pred[0, 0])\n",
    "        \n",
    "        next_date = last_date + timedelta(days=i+1)\n",
    "        future_dates.append(next_date)\n",
    "    \n",
    "        current_sequence = np.roll(current_sequence, -1, axis=0)\n",
    "        current_sequence[-1, 0] = current_pred\n",
    "        \n",
    "    future_predictions = scaler.inverse_transform(np.array(future_predictions).reshape(-1, 1))\n",
    " \n",
    "    result_df = pd.DataFrame({\n",
    "        'Ngày': future_dates,\n",
    "        'Giá trị Sell dự đoán': future_predictions.flatten()\n",
    "    })\n",
    "    \n",
    "    return result_df\n",
    "\n",
    "# Lấy sequence cuối cùng và ngày cuối cùng từ dữ liệu\n",
    "last_sequence = X_val[-1]\n",
    "last_date = data.index[-1] \n",
    "future_predictions_df = predict_future_with_dates(best_model, last_sequence, last_date, 7)\n",
    "\n",
    "print(\"Dự đoán 7 ngày tiếp theo:\")\n",
    "print(future_predictions_df.to_string(index=False))"
   ]
  }
 ],
 "metadata": {
  "kernelspec": {
   "display_name": "myenv",
   "language": "python",
   "name": "python3"
  },
  "language_info": {
   "codemirror_mode": {
    "name": "ipython",
    "version": 3
   },
   "file_extension": ".py",
   "mimetype": "text/x-python",
   "name": "python",
   "nbconvert_exporter": "python",
   "pygments_lexer": "ipython3",
   "version": "3.12.7"
  }
 },
 "nbformat": 4,
 "nbformat_minor": 5
}
