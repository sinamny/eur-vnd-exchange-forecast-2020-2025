{
 "cells": [
  {
   "cell_type": "markdown",
   "id": "d1ce2e68",
   "metadata": {},
   "source": [
    "# **Crawl dữ liệu từ VCB**"
   ]
  },
  {
   "cell_type": "markdown",
   "id": "3fc8c27b",
   "metadata": {},
   "source": [
    "## **Import các thư viện cần thiết**"
   ]
  },
  {
   "cell_type": "code",
   "execution_count": 12,
   "id": "c2865453",
   "metadata": {},
   "outputs": [],
   "source": [
    "import requests\n",
    "import pandas as pd\n",
    "from datetime import datetime, timedelta\n"
   ]
  },
  {
   "cell_type": "markdown",
   "id": "90c7b07f",
   "metadata": {},
   "source": [
    "## **Crawl dữ liệu**"
   ]
  },
  {
   "cell_type": "code",
   "execution_count": 13,
   "id": "888c5c5f",
   "metadata": {},
   "outputs": [
    {
     "name": "stdout",
     "output_type": "stream",
     "text": [
      "Đã crawl xong tháng 04/2020\n",
      "Đã crawl xong tháng 05/2020\n",
      "Đã crawl xong tháng 06/2020\n",
      "Đã crawl xong tháng 07/2020\n",
      "Đã crawl xong tháng 08/2020\n",
      "Đã crawl xong tháng 09/2020\n",
      "Đã crawl xong tháng 10/2020\n",
      "Đã crawl xong tháng 11/2020\n",
      "Đã crawl xong tháng 12/2020\n",
      "Đã crawl xong tháng 01/2021\n",
      "Đã crawl xong tháng 02/2021\n",
      "Đã crawl xong tháng 03/2021\n",
      "Đã crawl xong tháng 04/2021\n",
      "Đã crawl xong tháng 05/2021\n",
      "Đã crawl xong tháng 06/2021\n",
      "Đã crawl xong tháng 07/2021\n",
      "Đã crawl xong tháng 08/2021\n",
      "Đã crawl xong tháng 09/2021\n",
      "Đã crawl xong tháng 10/2021\n",
      "Đã crawl xong tháng 11/2021\n",
      "Đã crawl xong tháng 12/2021\n",
      "Đã crawl xong tháng 01/2022\n",
      "Đã crawl xong tháng 02/2022\n",
      "Đã crawl xong tháng 03/2022\n",
      "Đã crawl xong tháng 04/2022\n",
      "Đã crawl xong tháng 05/2022\n",
      "Đã crawl xong tháng 06/2022\n",
      "Đã crawl xong tháng 07/2022\n",
      "Đã crawl xong tháng 08/2022\n",
      "Đã crawl xong tháng 09/2022\n",
      "Đã crawl xong tháng 10/2022\n",
      "Đã crawl xong tháng 11/2022\n",
      "Đã crawl xong tháng 12/2022\n",
      "Đã crawl xong tháng 01/2023\n",
      "Đã crawl xong tháng 02/2023\n",
      "Đã crawl xong tháng 03/2023\n",
      "Đã crawl xong tháng 04/2023\n",
      "Đã crawl xong tháng 05/2023\n",
      "Đã crawl xong tháng 06/2023\n",
      "Đã crawl xong tháng 07/2023\n",
      "Đã crawl xong tháng 08/2023\n",
      "Đã crawl xong tháng 09/2023\n",
      "Đã crawl xong tháng 10/2023\n",
      "Đã crawl xong tháng 11/2023\n",
      "Đã crawl xong tháng 12/2023\n",
      "Đã crawl xong tháng 01/2024\n",
      "Đã crawl xong tháng 02/2024\n",
      "Đã crawl xong tháng 03/2024\n",
      "Đã crawl xong tháng 04/2024\n",
      "Đã crawl xong tháng 05/2024\n",
      "Đã crawl xong tháng 06/2024\n",
      "Đã crawl xong tháng 07/2024\n",
      "Đã crawl xong tháng 08/2024\n",
      "Đã crawl xong tháng 09/2024\n",
      "Đã crawl xong tháng 10/2024\n",
      "Đã crawl xong tháng 11/2024\n",
      "Đã crawl xong tháng 12/2024\n",
      "Đã crawl xong tháng 01/2025\n",
      "Đã crawl xong tháng 02/2025\n",
      "Đã crawl xong tháng 03/2025\n"
     ]
    }
   ],
   "source": [
    "start_date = datetime.strptime(\"2020-04-01\", \"%Y-%m-%d\")\n",
    "end_date = datetime.strptime(\"2025-04-11\", \"%Y-%m-%d\")\n",
    "delta = timedelta(days=1)\n",
    "\n",
    "# Danh sách lưu dữ liệu\n",
    "exchange_data = []\n",
    "\n",
    "# Biến để theo dõi tháng hiện tại\n",
    "current_month = start_date.month\n",
    "current_year = start_date.year\n",
    "\n",
    "current_date = start_date\n",
    "while current_date <= end_date:\n",
    "    date_str = current_date.strftime(\"%Y-%m-%d\")\n",
    "    url = f\"https://www.vietcombank.com.vn/api/exchangerates?date={date_str}\"\n",
    "\n",
    "    try:\n",
    "        response = requests.get(url)\n",
    "        if response.status_code == 200:\n",
    "            json_data = response.json()\n",
    "            if 'Data' in json_data:\n",
    "                eur = next((item for item in json_data['Data'] if item['currencyCode'] == 'EUR'), None)\n",
    "                if eur:\n",
    "                    exchange_data.append({\n",
    "                        'Date': date_str,\n",
    "                        'Buy_cash': eur['cash'],\n",
    "                        'Buy_transfer': eur['transfer'],\n",
    "                        'Sell': eur['sell']\n",
    "                    })\n",
    "                else:\n",
    "                    print(f\"Không có dữ liệu EUR ngày {date_str}\")\n",
    "            else:\n",
    "                print(f\"Không có trường 'Data' ngày {date_str}\")\n",
    "        else:\n",
    "            print(f\"Lỗi HTTP {response.status_code} ngày {date_str}\")\n",
    "    except Exception as e:\n",
    "        print(f\"Lỗi ngày {date_str}: {e}\")\n",
    "\n",
    "    if current_date.month != current_month:\n",
    "        print(f\"Đã crawl xong tháng {current_month:02d}/{current_year}\")\n",
    "        current_month = current_date.month\n",
    "        current_year = current_date.year\n",
    "\n",
    "    current_date += delta\n",
    "\n",
    "df = pd.DataFrame(exchange_data)\n",
    "\n"
   ]
  },
  {
   "cell_type": "code",
   "execution_count": 14,
   "id": "c0c3c71b",
   "metadata": {},
   "outputs": [
    {
     "name": "stdout",
     "output_type": "stream",
     "text": [
      "\n",
      "Đã lưu dữ liệu thành công vào: ../data/raw/EUR_VND_Exchange_Rate_2020_2025_raw.csv\n"
     ]
    }
   ],
   "source": [
    "output_file = \"../data/raw/EUR_VND_Exchange_Rate_2020_2025_raw.csv\"\n",
    "df.to_csv(output_file, index=False)\n",
    "print(f\"\\nĐã lưu dữ liệu thành công vào: {output_file}\")"
   ]
  }
 ],
 "metadata": {
  "kernelspec": {
   "display_name": "myenv",
   "language": "python",
   "name": "python3"
  },
  "language_info": {
   "codemirror_mode": {
    "name": "ipython",
    "version": 3
   },
   "file_extension": ".py",
   "mimetype": "text/x-python",
   "name": "python",
   "nbconvert_exporter": "python",
   "pygments_lexer": "ipython3",
   "version": "3.12.7"
  }
 },
 "nbformat": 4,
 "nbformat_minor": 5
}
